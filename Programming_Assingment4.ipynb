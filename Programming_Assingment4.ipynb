{
 "cells": [
  {
   "cell_type": "code",
   "execution_count": null,
   "id": "cb83ed15",
   "metadata": {},
   "outputs": [],
   "source": [
    "Write a Python Program to Find the Factorial of a Number?"
   ]
  },
  {
   "cell_type": "code",
   "execution_count": 14,
   "id": "66cffb19",
   "metadata": {},
   "outputs": [
    {
     "name": "stdout",
     "output_type": "stream",
     "text": [
      "Enter number 5\n",
      "The factorial of 5 is 120\n"
     ]
    }
   ],
   "source": [
    "a = int(input(\"Enter number \"))\n",
    "\n",
    "fact = 1\n",
    "\n",
    "if a < 0:\n",
    "     print(\" Factorial does not exist for negative numbers\")    \n",
    "elif a == 0:    \n",
    "     print(\"The factorial of 0 is 1\")  \n",
    "\n",
    "else:    \n",
    "   for i in range(1,a + 1):    \n",
    "       fact = fact*i    \n",
    "   print(\"The factorial of\",a,\"is\",fact)    "
   ]
  },
  {
   "cell_type": "code",
   "execution_count": null,
   "id": "145f12a5",
   "metadata": {},
   "outputs": [],
   "source": [
    "Write a Python Program to Display the multiplication Table?"
   ]
  },
  {
   "cell_type": "code",
   "execution_count": 16,
   "id": "17170206",
   "metadata": {},
   "outputs": [
    {
     "name": "stdout",
     "output_type": "stream",
     "text": [
      "Enter number 5\n",
      "5 x 1 = 5\n",
      "5 x 2 = 10\n",
      "5 x 3 = 15\n",
      "5 x 4 = 20\n",
      "5 x 5 = 25\n"
     ]
    }
   ],
   "source": [
    "a = int(input(\"Enter number \"))\n",
    "\n",
    "for i in range(1, a+1):\n",
    "   print(a, 'x', i, '=', a*i)"
   ]
  },
  {
   "cell_type": "code",
   "execution_count": null,
   "id": "1e09e6b5",
   "metadata": {},
   "outputs": [],
   "source": [
    "Write a Python Program to Print the Fibonacci sequence?"
   ]
  },
  {
   "cell_type": "code",
   "execution_count": 1,
   "id": "fe9460d5",
   "metadata": {},
   "outputs": [
    {
     "name": "stdout",
     "output_type": "stream",
     "text": [
      "How many terms? 5\n",
      "Fibonacci sequence:\n",
      "0\n",
      "1\n",
      "1\n",
      "2\n",
      "3\n"
     ]
    }
   ],
   "source": [
    "n = int(input(\"Enter number \"))\n",
    "\n",
    "n1, n2 = 0, 1\n",
    "count = 0\n",
    "\n",
    "\n",
    "if n <= 0:\n",
    "   print(\"Please enter a positive integer\")\n",
    "\n",
    "\n",
    "elif n == 1:\n",
    "   print(\"Fibonacci sequence upto\",n,\":\")\n",
    "   print(n1)\n",
    "\n",
    "    \n",
    "else:\n",
    "   print(\"Fibonacci sequence:\")\n",
    "   while count < n:\n",
    "       print(n1)\n",
    "       nth = n1 + n2\n",
    "       \n",
    "       n1 = n2\n",
    "       n2 = nth\n",
    "       count += 1"
   ]
  },
  {
   "cell_type": "code",
   "execution_count": null,
   "id": "64e1df0f",
   "metadata": {},
   "outputs": [],
   "source": [
    "Write a Python Program to Check Armstrong Number?"
   ]
  },
  {
   "cell_type": "code",
   "execution_count": 51,
   "id": "466c2d37",
   "metadata": {
    "scrolled": true
   },
   "outputs": [
    {
     "name": "stdout",
     "output_type": "stream",
     "text": [
      "Enter number 1634\n",
      "1634 is an Armstrong number\n"
     ]
    }
   ],
   "source": [
    "n = int(input(\"Enter number \"))\n",
    "\n",
    "p = len(str(n))\n",
    "\n",
    "a = 0\n",
    "\n",
    "m = n\n",
    "\n",
    "while m > 0:\n",
    "   x = m % 10\n",
    "   y = x ** p\n",
    "   a = a + y\n",
    "   m = m // 10\n",
    "\n",
    "if n == a:\n",
    "   print(n,\"is an Armstrong number\")\n",
    "else:\n",
    "   print(n,\"is not an Armstrong number\")"
   ]
  },
  {
   "cell_type": "code",
   "execution_count": null,
   "id": "703bf903",
   "metadata": {},
   "outputs": [],
   "source": [
    "5.\tWrite a Python Program to Find Armstrong Number in an Interval?"
   ]
  },
  {
   "cell_type": "code",
   "execution_count": 44,
   "id": "84645ad0",
   "metadata": {},
   "outputs": [
    {
     "name": "stdout",
     "output_type": "stream",
     "text": [
      "Enter starting range number 1\n",
      "Enter ending range number 2000\n",
      "1 are an Armstrong number\n",
      "2 are an Armstrong number\n",
      "3 are an Armstrong number\n",
      "4 are an Armstrong number\n",
      "5 are an Armstrong number\n",
      "6 are an Armstrong number\n",
      "7 are an Armstrong number\n",
      "8 are an Armstrong number\n",
      "9 are an Armstrong number\n",
      "153 are an Armstrong number\n",
      "370 are an Armstrong number\n",
      "371 are an Armstrong number\n",
      "407 are an Armstrong number\n",
      "1634 are an Armstrong number\n"
     ]
    }
   ],
   "source": [
    "n = int(input(\"Enter starting range number \"))\n",
    "o = int(input(\"Enter ending range number \"))\n",
    "\n",
    "for i in range(n,o+1):\n",
    "    p = len(str(i))\n",
    "    a = 0\n",
    "    m = i\n",
    "    while m > 0:\n",
    "        x = m % 10\n",
    "        y = x ** p\n",
    "        a = a + y\n",
    "        m = m // 10\n",
    "\n",
    "    if i == a:\n",
    "        print(i,\"are an Armstrong number\")\n"
   ]
  },
  {
   "cell_type": "code",
   "execution_count": null,
   "id": "84baa905",
   "metadata": {},
   "outputs": [],
   "source": [
    "6.\tWrite a Python Program to Find the Sum of Natural Numbers?"
   ]
  },
  {
   "cell_type": "code",
   "execution_count": 63,
   "id": "3a4559ef",
   "metadata": {},
   "outputs": [
    {
     "name": "stdout",
     "output_type": "stream",
     "text": [
      "Enter number 160\n",
      "The sum is 12880\n"
     ]
    }
   ],
   "source": [
    "n = int(input(\"Enter number \"))\n",
    "\n",
    "if n < 0:\n",
    "   print(\"Enter a positive number\")\n",
    "else:\n",
    "   a = 0\n",
    "   while(n > 0):\n",
    "       a = a + n\n",
    "       n = n - 1\n",
    "   print(\"The sum is\", a)"
   ]
  },
  {
   "cell_type": "code",
   "execution_count": null,
   "id": "d63d3a4b",
   "metadata": {},
   "outputs": [],
   "source": []
  },
  {
   "cell_type": "code",
   "execution_count": null,
   "id": "26698d54",
   "metadata": {},
   "outputs": [],
   "source": []
  },
  {
   "cell_type": "code",
   "execution_count": null,
   "id": "805fb703",
   "metadata": {},
   "outputs": [],
   "source": []
  },
  {
   "cell_type": "code",
   "execution_count": null,
   "id": "cda001b6",
   "metadata": {},
   "outputs": [],
   "source": []
  },
  {
   "cell_type": "code",
   "execution_count": null,
   "id": "1a35cc0f",
   "metadata": {},
   "outputs": [],
   "source": []
  }
 ],
 "metadata": {
  "kernelspec": {
   "display_name": "Python 3 (ipykernel)",
   "language": "python",
   "name": "python3"
  },
  "language_info": {
   "codemirror_mode": {
    "name": "ipython",
    "version": 3
   },
   "file_extension": ".py",
   "mimetype": "text/x-python",
   "name": "python",
   "nbconvert_exporter": "python",
   "pygments_lexer": "ipython3",
   "version": "3.10.2"
  }
 },
 "nbformat": 4,
 "nbformat_minor": 5
}
