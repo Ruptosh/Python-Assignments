{
 "cells": [
  {
   "cell_type": "code",
   "execution_count": null,
   "id": "3ccf308c",
   "metadata": {},
   "outputs": [],
   "source": [
    "Q1. What is the purpose of Python's OOP?"
   ]
  },
  {
   "cell_type": "code",
   "execution_count": null,
   "id": "91476ba4",
   "metadata": {},
   "outputs": [],
   "source": [
    "Ans:- In Python, object-oriented Programming (OOPs) is a programming paradigm that uses \n",
    "    objects and classes in programming. It aims to implement real-world entities like \n",
    "    inheritance, polymorphisms, encapsulation, etc. in the programming. The main concept \n",
    "    of OOPs is to bind the data and the functions that work on that together as a single \n",
    "    unit so that no other part of the code can access this data.\n",
    "    Purposes:\n",
    "        1) The class is sharable, the code can be reused.\n",
    "        2) Data is safe and secure with data abstraction.\n",
    "        3) Polymorphism allows the same interface for different objects, so programmers can write efficient code."
   ]
  },
  {
   "cell_type": "code",
   "execution_count": null,
   "id": "47b8ca94",
   "metadata": {},
   "outputs": [],
   "source": [
    "Q2. Where does an inheritance search look for an attribute?"
   ]
  },
  {
   "cell_type": "code",
   "execution_count": null,
   "id": "1b5abfb1",
   "metadata": {},
   "outputs": [],
   "source": [
    "Ans:- The whole point of a namespace tool like the class statement is to support name inheritance.\n",
    "    In Python, inheritance happens when an object is qualified, and involves searching an attribute\n",
    "    definition tree (one or more namespaces). Every time you use an expression of the form object.attr\n",
    "    where object is an instance or class object, Python searches the namespace tree at and above object,\n",
    "    for the first attr it can find. Because lower definitions in the tree override higher ones, inheritance\n",
    "    forms the basis of specialization."
   ]
  },
  {
   "cell_type": "code",
   "execution_count": null,
   "id": "8f9f7541",
   "metadata": {},
   "outputs": [],
   "source": [
    "Q3. How do you distinguish between a class object and an instance object?"
   ]
  },
  {
   "cell_type": "code",
   "execution_count": null,
   "id": "fcc601ee",
   "metadata": {},
   "outputs": [],
   "source": [
    "Ans:- A class is a blueprint from which you can create the instance, i.e., objects.The class has to be declared \n",
    "    only once. An object is the instance of the class, which helps programmers to use variables and methods \n",
    "    from inside the class. Object acts like a variable of the class."
   ]
  },
  {
   "cell_type": "code",
   "execution_count": null,
   "id": "b865e887",
   "metadata": {},
   "outputs": [],
   "source": [
    "Q4. What makes the first argument in a class’s method function special?"
   ]
  },
  {
   "cell_type": "code",
   "execution_count": null,
   "id": "70aa19ba",
   "metadata": {},
   "outputs": [],
   "source": [
    "Ans:- The first argument of every class method, including init, is always a reference to the \n",
    "    current instance of the class. By convention, this argument is always named self. In the \n",
    "    init method, self refers to the newly created object; in other \n",
    "    class methods, it refers to the instance whose method was called."
   ]
  },
  {
   "cell_type": "code",
   "execution_count": null,
   "id": "90747279",
   "metadata": {},
   "outputs": [],
   "source": [
    "Q5. What is the purpose of the __init__ method?"
   ]
  },
  {
   "cell_type": "code",
   "execution_count": null,
   "id": "ee33b4ae",
   "metadata": {},
   "outputs": [],
   "source": [
    "Ans:- \"__init__\" is a reseved method in python classes. It is called as a constructor in \n",
    "    object oriented terminology. This method is called when an object is created from a class \n",
    "    and it allows the class to initialize the attributes of the class."
   ]
  },
  {
   "cell_type": "code",
   "execution_count": null,
   "id": "247b4fed",
   "metadata": {},
   "outputs": [],
   "source": [
    "Q6. What is the process for creating a class instance?"
   ]
  },
  {
   "cell_type": "code",
   "execution_count": null,
   "id": "228436d7",
   "metadata": {},
   "outputs": [],
   "source": [
    "Ans:-Instance is an individual object of a certain class.For example, An object called\n",
    "'obj' that belongs to a class Circle. This is an instance of the class Circle. We create instance to use the class\n",
    "in that instance to process some data."
   ]
  },
  {
   "cell_type": "code",
   "execution_count": null,
   "id": "b659942b",
   "metadata": {},
   "outputs": [],
   "source": [
    "Q7. What is the process for creating a class?"
   ]
  },
  {
   "cell_type": "code",
   "execution_count": null,
   "id": "870c0a26",
   "metadata": {},
   "outputs": [],
   "source": [
    "Ans:- A class is a user-defined blueprint or prototype from which objects are created. \n",
    "Classes provide a means of bundling data and functionality together. Creating a new class\n",
    "creates a new type of object, allowing new instances of that type to be made. Each class \n",
    "instance can have attributes attached to it for maintaining its state. A class is sharable, the code can be reuse.\n",
    "Class increases the fuctionality and reusibilty of a code."
   ]
  },
  {
   "cell_type": "code",
   "execution_count": null,
   "id": "a8d78690",
   "metadata": {},
   "outputs": [],
   "source": [
    "Q8. How would you define the superclasses of a class?"
   ]
  },
  {
   "cell_type": "code",
   "execution_count": null,
   "id": "3ee0168d",
   "metadata": {},
   "outputs": [],
   "source": [
    "Ans:-The class from which a class inherits is called the parent or superclass. \n",
    "A class which inherits from a superclass is called a subclass, also called \n",
    "heir class or child class. Superclasses are sometimes called ancestors as well."
   ]
  },
  {
   "cell_type": "code",
   "execution_count": 8,
   "id": "e3b2ea3e",
   "metadata": {},
   "outputs": [
    {
     "name": "stdout",
     "output_type": "stream",
     "text": [
      "Hi, I am  Amit\n",
      "None\n",
      "Hi, I am  Rahul\n",
      "None\n"
     ]
    }
   ],
   "source": [
    "class Superclasses:\n",
    "    def __init__(self,name):\n",
    "        self.name = name\n",
    "    def say_hi(self):\n",
    "        print(\"Hi, I am \", self.name)\n",
    "\n",
    "class class1(Superclasses):\n",
    "    pass\n",
    "class class2(Superclasses):\n",
    "    pass\n",
    "\n",
    "obj1 = class1(\"Amit\")\n",
    "obj2 = class2(\"Rahul\")\n",
    "\n",
    "print(obj1.say_hi())\n",
    "print(obj2.say_hi())"
   ]
  },
  {
   "cell_type": "code",
   "execution_count": null,
   "id": "c5c30b95",
   "metadata": {},
   "outputs": [],
   "source": []
  },
  {
   "cell_type": "code",
   "execution_count": null,
   "id": "b7bf6b7c",
   "metadata": {},
   "outputs": [],
   "source": []
  },
  {
   "cell_type": "code",
   "execution_count": null,
   "id": "846a1b04",
   "metadata": {},
   "outputs": [],
   "source": []
  },
  {
   "cell_type": "code",
   "execution_count": null,
   "id": "59c3a191",
   "metadata": {},
   "outputs": [],
   "source": []
  },
  {
   "cell_type": "code",
   "execution_count": null,
   "id": "a49d9877",
   "metadata": {},
   "outputs": [],
   "source": []
  },
  {
   "cell_type": "code",
   "execution_count": null,
   "id": "abc19126",
   "metadata": {},
   "outputs": [],
   "source": []
  }
 ],
 "metadata": {
  "kernelspec": {
   "display_name": "Python 3 (ipykernel)",
   "language": "python",
   "name": "python3"
  },
  "language_info": {
   "codemirror_mode": {
    "name": "ipython",
    "version": 3
   },
   "file_extension": ".py",
   "mimetype": "text/x-python",
   "name": "python",
   "nbconvert_exporter": "python",
   "pygments_lexer": "ipython3",
   "version": "3.9.7"
  }
 },
 "nbformat": 4,
 "nbformat_minor": 5
}
