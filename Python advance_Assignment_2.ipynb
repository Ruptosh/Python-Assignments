{
 "cells": [
  {
   "cell_type": "code",
   "execution_count": null,
   "id": "a0e59e14",
   "metadata": {},
   "outputs": [],
   "source": [
    "1. What is the relationship between classes and modules?\n",
    "Ans: - A module is a file containing Python code, definitions of functions, statements, or classes.\n",
    "    We employ modules to divide complicated programs into smaller, more understandable pieces.\n",
    "    Modules also allow for the reuse of code. Suppose a class is a prototype of a building.\n",
    "    A building contains all the details about the floor, rooms, doors, windows, etc.\n",
    "    we can make as many buildings as we want, based on these details. Hence,\n",
    "    the building can be seen as a class, and we can create as many objects of this class.\n",
    "    So a module in python is simply a way to organize the code, and it contains either python classes or just functions"
   ]
  },
  {
   "cell_type": "code",
   "execution_count": null,
   "id": "751e6377",
   "metadata": {},
   "outputs": [],
   "source": [
    "2. How do you make instances and classes?\n",
    "Ans:- To create instances of a class, you call the class using class name and pass in whatever arguments\n",
    "    its __init__ method accepts.\n",
    "\n",
    "Example: \n",
    "class Employee:    \n",
    "    id = 10   \n",
    "    name = \"Devansh\"    \n",
    "    def display (self):    \n",
    "        print(self.id,self.name)"
   ]
  },
  {
   "cell_type": "code",
   "execution_count": 1,
   "id": "b906a5cf",
   "metadata": {},
   "outputs": [],
   "source": [
    "3. Where and how should be class attributes created?\n",
    "Ans:- To define a class attribute, you place it outside of the __init__() method. For example, the following defines\n",
    "    pi as a class attribute.\n",
    "\n",
    "#class Circle:\n",
    "    pi = 3.14159\n",
    "\n",
    "    def __init__(self, radius):\n",
    "        self.radius = radius\n",
    "\n",
    "    def area(self):\n",
    "        return self.pi * self.radius**2\n",
    "\n",
    "    def circumference(self):\n",
    "        return 2 * self.pi * self.radius"
   ]
  },
  {
   "cell_type": "code",
   "execution_count": null,
   "id": "5a313e2f",
   "metadata": {},
   "outputs": [],
   "source": [
    "4. Where and how are instance attributes created?\n",
    "Ans:- Below is the example for instance attributes:-\n",
    "        \n",
    "class Circle:\n",
    "    def __init__(self, radius):\n",
    "        self.pi = 3.14159\n",
    "        self.radius = radius\n",
    "\n",
    "    def area(self):\n",
    "        return self.pi * self.radius**2\n",
    "\n",
    "    def circumference(self):\n",
    "        return 2*self.pi * self.radius\n",
    "    The Circle class has two attributes pi and radius. It also has two methods that calculate \n",
    "    the area and circumference of a circle.Both pi and radius are called instance attributes.\n",
    "    In other words, they belong to a specific instance of the Circle class. If you change the\n",
    "    attributes of an instance, it won’t affect other instances.\n"
   ]
  },
  {
   "cell_type": "code",
   "execution_count": null,
   "id": "05c63184",
   "metadata": {},
   "outputs": [],
   "source": [
    "5. What does the term \"self\" in a Python class mean?\n",
    "Ans:- The self parameter is a reference to the current instance of the class, and is used to access \n",
    "      variables that belongs to the class. "
   ]
  },
  {
   "cell_type": "code",
   "execution_count": null,
   "id": "259894dd",
   "metadata": {},
   "outputs": [],
   "source": [
    "6. How does a Python class handle operator overloading?\n",
    "Ans:- The operator overloading in Python means provide extended meaning beyond their predefined \n",
    "    operational meaning. Such as, we use the \"+\" operator for adding two integers as well as joining\n",
    "    two strings or merging two lists. We can achieve this as the \"+\" operator is overloaded by the \n",
    "    \"int\" class and \"str\" class. The user can notice that the same inbuilt operator or function is \n",
    "    showing different behaviour for objects of different classes. This process is known as operator \n",
    "    overloading."
   ]
  },
  {
   "cell_type": "code",
   "execution_count": null,
   "id": "af70bbd9",
   "metadata": {},
   "outputs": [],
   "source": [
    "7. When do you consider allowing operator overloading of your classes?\n",
    "Ans:- When the user uses the operator on the user-defined data types of class,\n",
    "    then a magic function that is associated with the operator will be invoked \n",
    "    automatically. The process of changing the behaviour of the operator is as \n",
    "    simple as the behaviour of the function or method defined.The user define \n",
    "    methods or functions in the class and the operator works according to that \n",
    "    behaviour defined in the functions. When the user uses the \"+\" operator, it \n",
    "    will change the code of a magic function, and the user has an extra meaning \n",
    "    of the \"+\" operator."
   ]
  },
  {
   "cell_type": "code",
   "execution_count": null,
   "id": "0f28fd3c",
   "metadata": {},
   "outputs": [],
   "source": [
    "8. What is the most popular form of operator overloading?\n",
    "Ans: - A very popular and convenient example is the Addition (+) operator.\n",
    "    Just think how the ‘+’ operator operates on two numbers and the same operator \n",
    "    operates on two strings. It performs “Addition” on numbers whereas it performs\n",
    "    “Concatenation” on strings."
   ]
  },
  {
   "cell_type": "code",
   "execution_count": null,
   "id": "871851d3",
   "metadata": {},
   "outputs": [],
   "source": [
    "9. . What are the two most important concepts to grasp in order to comprehend Python OOP code?\n",
    "Ans: -  Inheritance and Polymorphism are the two most important concepts to grasp in order to comprehend Python OOP code."
   ]
  },
  {
   "cell_type": "code",
   "execution_count": null,
   "id": "e04f118e",
   "metadata": {},
   "outputs": [],
   "source": []
  },
  {
   "cell_type": "code",
   "execution_count": null,
   "id": "a5624955",
   "metadata": {},
   "outputs": [],
   "source": []
  },
  {
   "cell_type": "code",
   "execution_count": null,
   "id": "ec6d2d1d",
   "metadata": {},
   "outputs": [],
   "source": []
  },
  {
   "cell_type": "code",
   "execution_count": null,
   "id": "ebeb8882",
   "metadata": {},
   "outputs": [],
   "source": []
  },
  {
   "cell_type": "code",
   "execution_count": null,
   "id": "c4a28ab5",
   "metadata": {},
   "outputs": [],
   "source": []
  },
  {
   "cell_type": "code",
   "execution_count": null,
   "id": "10ffcbcf",
   "metadata": {},
   "outputs": [],
   "source": []
  },
  {
   "cell_type": "code",
   "execution_count": null,
   "id": "1066e6f9",
   "metadata": {},
   "outputs": [],
   "source": []
  },
  {
   "cell_type": "code",
   "execution_count": null,
   "id": "d52621a6",
   "metadata": {},
   "outputs": [],
   "source": []
  }
 ],
 "metadata": {
  "kernelspec": {
   "display_name": "Python 3 (ipykernel)",
   "language": "python",
   "name": "python3"
  },
  "language_info": {
   "codemirror_mode": {
    "name": "ipython",
    "version": 3
   },
   "file_extension": ".py",
   "mimetype": "text/x-python",
   "name": "python",
   "nbconvert_exporter": "python",
   "pygments_lexer": "ipython3",
   "version": "3.9.7"
  }
 },
 "nbformat": 4,
 "nbformat_minor": 5
}
