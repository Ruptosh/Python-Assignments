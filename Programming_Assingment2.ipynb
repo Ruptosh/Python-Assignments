{
 "cells": [
  {
   "cell_type": "code",
   "execution_count": 2,
   "id": "8b059c26",
   "metadata": {},
   "outputs": [
    {
     "name": "stdout",
     "output_type": "stream",
     "text": [
      "Object `miles` not found.\n"
     ]
    }
   ],
   "source": [
    "1.\tWrite a Python program to convert kilometers to miles?"
   ]
  },
  {
   "cell_type": "code",
   "execution_count": 7,
   "id": "ff7ead22",
   "metadata": {},
   "outputs": [
    {
     "name": "stdout",
     "output_type": "stream",
     "text": [
      "Enter Kilometers 2\n",
      "Kilometers to Miles  1.242742\n"
     ]
    }
   ],
   "source": [
    "km = float(input(\"Enter Kilometers \"))\n",
    "a = 0.621371\n",
    "miles = (km*a)\n",
    "print(\"Kilometers to Miles \", miles)"
   ]
  },
  {
   "cell_type": "code",
   "execution_count": 8,
   "id": "625ea9cb",
   "metadata": {},
   "outputs": [
    {
     "name": "stdout",
     "output_type": "stream",
     "text": [
      "Object `Fahrenheit` not found.\n"
     ]
    }
   ],
   "source": [
    "2.\tWrite a Python program to convert Celsius to Fahrenheit?"
   ]
  },
  {
   "cell_type": "code",
   "execution_count": 12,
   "id": "cf6b041a",
   "metadata": {},
   "outputs": [
    {
     "name": "stdout",
     "output_type": "stream",
     "text": [
      "Enter Celcius 5\n",
      "Celsius to Fahrenheit  41.0\n"
     ]
    }
   ],
   "source": [
    "celcius = float(input(\"Enter Celcius \"))\n",
    "\n",
    "fahrenheit = (celcius*9/5)+32\n",
    "\n",
    "print(\"Celsius to Fahrenheit \", fahrenheit)"
   ]
  },
  {
   "cell_type": "code",
   "execution_count": 17,
   "id": "be8166f4",
   "metadata": {},
   "outputs": [
    {
     "name": "stdout",
     "output_type": "stream",
     "text": [
      "Enter year: 5\n",
      "Enter month: 6\n",
      "       June 5\n",
      "Mo Tu We Th Fr Sa Su\n",
      "       1  2  3  4  5\n",
      " 6  7  8  9 10 11 12\n",
      "13 14 15 16 17 18 19\n",
      "20 21 22 23 24 25 26\n",
      "27 28 29 30\n",
      "\n"
     ]
    }
   ],
   "source": [
    "import calendar  \n",
    "\n",
    "year = int(input(\"Enter year: \"))  \n",
    "month = int(input(\"Enter month: \"))  \n",
    "  \n",
    "\n",
    "print(calendar.month(year,month))  "
   ]
  },
  {
   "cell_type": "code",
   "execution_count": null,
   "id": "d49bc0f7",
   "metadata": {},
   "outputs": [],
   "source": [
    "4.\tWrite a Python program to solve quadratic equation?"
   ]
  },
  {
   "cell_type": "code",
   "execution_count": 18,
   "id": "7d7b0666",
   "metadata": {},
   "outputs": [
    {
     "name": "stdout",
     "output_type": "stream",
     "text": [
      "Enter : 5\n",
      "Enter : 2\n",
      "Enter : 6\n",
      "The quadratic equation  (-0.2-1.0770329614269007j) (-0.2+1.0770329614269007j)\n"
     ]
    }
   ],
   "source": [
    "import cmath  \n",
    "a = float(input('Enter : '))  \n",
    "b = float(input('Enter : '))  \n",
    "c = float(input('Enter : '))  \n",
    "  \n",
    "d = (b**2) - (4*a*c)  \n",
    "  \n",
    "      \n",
    "ans1 = (-b-cmath.sqrt(d))/(2*a)  \n",
    "ans2 = (-b+cmath.sqrt(d))/(2*a)  \n",
    "\n",
    "print('The quadratic equation ' ,ans1,ans2)   \n"
   ]
  },
  {
   "cell_type": "code",
   "execution_count": 19,
   "id": "345b440a",
   "metadata": {},
   "outputs": [
    {
     "name": "stdout",
     "output_type": "stream",
     "text": [
      "Object `variable` not found.\n"
     ]
    }
   ],
   "source": [
    "5.\tWrite a Python program to swap two variables without temp variable?"
   ]
  },
  {
   "cell_type": "code",
   "execution_count": 21,
   "id": "79757114",
   "metadata": {},
   "outputs": [
    {
     "name": "stdout",
     "output_type": "stream",
     "text": [
      "Enter 312\n",
      "Enter 69\n",
      "Before Swap  312 69\n",
      "After Swap  69 312\n"
     ]
    }
   ],
   "source": [
    "x = int(input(\"Enter \"))\n",
    "y = int(input(\"Enter \"))\n",
    "\n",
    "print(\"Before Swap \",x,y)\n",
    "\n",
    "x = x + y\n",
    "y = x - y\n",
    "x = x -y\n",
    "\n",
    "print(\"After Swap \",x,y)"
   ]
  },
  {
   "cell_type": "code",
   "execution_count": null,
   "id": "86a6e1ff",
   "metadata": {},
   "outputs": [],
   "source": []
  },
  {
   "cell_type": "code",
   "execution_count": null,
   "id": "80bc33d8",
   "metadata": {},
   "outputs": [],
   "source": []
  },
  {
   "cell_type": "code",
   "execution_count": null,
   "id": "426d5ecc",
   "metadata": {},
   "outputs": [],
   "source": []
  },
  {
   "cell_type": "code",
   "execution_count": null,
   "id": "3ee0079e",
   "metadata": {},
   "outputs": [],
   "source": []
  }
 ],
 "metadata": {
  "kernelspec": {
   "display_name": "Python 3 (ipykernel)",
   "language": "python",
   "name": "python3"
  },
  "language_info": {
   "codemirror_mode": {
    "name": "ipython",
    "version": 3
   },
   "file_extension": ".py",
   "mimetype": "text/x-python",
   "name": "python",
   "nbconvert_exporter": "python",
   "pygments_lexer": "ipython3",
   "version": "3.9.7"
  }
 },
 "nbformat": 4,
 "nbformat_minor": 5
}
