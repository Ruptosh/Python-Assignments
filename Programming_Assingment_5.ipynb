{
 "cells": [
  {
   "cell_type": "code",
   "execution_count": null,
   "id": "5a5c296b",
   "metadata": {},
   "outputs": [],
   "source": [
    "1.\tWrite a Python Program to Find LCM?"
   ]
  },
  {
   "cell_type": "code",
   "execution_count": 2,
   "id": "8829727b",
   "metadata": {},
   "outputs": [
    {
     "name": "stdout",
     "output_type": "stream",
     "text": [
      "Enter the first number:5\n",
      "Enter the second number:15\n",
      "LCM is: 15\n"
     ]
    }
   ],
   "source": [
    "a=int(input(\"Enter the first number:\"))\n",
    "b=int(input(\"Enter the second number:\"))\n",
    "\n",
    "if(a>b):\n",
    "    min1=a\n",
    "else:\n",
    "    min1=b\n",
    "    \n",
    "while(1):\n",
    "    if( min1%a==0 and min1%b==0):\n",
    "        print(\"LCM is:\",min1)\n",
    "        break\n",
    "    min1=min1+1"
   ]
  },
  {
   "cell_type": "code",
   "execution_count": null,
   "id": "06bcea69",
   "metadata": {},
   "outputs": [],
   "source": [
    "2.\tWrite a Python Program to Find HCF?"
   ]
  },
  {
   "cell_type": "code",
   "execution_count": 26,
   "id": "dc99355f",
   "metadata": {},
   "outputs": [
    {
     "name": "stdout",
     "output_type": "stream",
     "text": [
      "Enter the first number:125\n",
      "Enter the second number:625\n",
      "HCF is  125\n"
     ]
    }
   ],
   "source": [
    "a=int(input(\"Enter the first number:\"))\n",
    "b=int(input(\"Enter the second number:\"))\n",
    "if(a>b):\n",
    "    max=b\n",
    "else:\n",
    "    max=a\n",
    "for i in range(1,max+1):\n",
    "    if((a % i ==0) and (a%i == 0) ):\n",
    "        HCF=i\n",
    "print('HCF is ',HCF)"
   ]
  },
  {
   "cell_type": "code",
   "execution_count": null,
   "id": "233f6992",
   "metadata": {},
   "outputs": [],
   "source": [
    "3.\tWrite a Python Program to Convert Decimal to Binary, Octal and Hexadecimal?"
   ]
  },
  {
   "cell_type": "code",
   "execution_count": 31,
   "id": "80ee04fc",
   "metadata": {},
   "outputs": [
    {
     "name": "stdout",
     "output_type": "stream",
     "text": [
      "Enter Decimal number 110\n",
      "0b1101110 in binary.\n",
      "0o156 in octal.\n",
      "0x6e in hexadecimal.\n"
     ]
    }
   ],
   "source": [
    "dec = int(input('Enter Decimal number '))\n",
    "\n",
    "\n",
    "print(bin(dec), \"in binary.\")\n",
    "print(oct(dec), \"in octal.\")\n",
    "print(hex(dec), \"in hexadecimal.\")"
   ]
  },
  {
   "cell_type": "code",
   "execution_count": null,
   "id": "2fececa4",
   "metadata": {},
   "outputs": [],
   "source": [
    "4.\tWrite a Python Program To Find ASCII value of a character?"
   ]
  },
  {
   "cell_type": "code",
   "execution_count": 37,
   "id": "e5e9e44b",
   "metadata": {},
   "outputs": [
    {
     "name": "stdout",
     "output_type": "stream",
     "text": [
      "Please enter a character: b\n",
      "The ASCII value of 'b' is  98\n"
     ]
    }
   ],
   "source": [
    "n = input(\"Please enter a character: \")    \n",
    "    \n",
    "print (\"The ASCII value of '\" + n + \"' is \", ord(n))  \n"
   ]
  },
  {
   "cell_type": "code",
   "execution_count": null,
   "id": "e8514a8f",
   "metadata": {},
   "outputs": [],
   "source": [
    "5.\tWrite a Python Program to Make a Simple Calculator with 4 basic mathematical operations?"
   ]
  },
  {
   "cell_type": "code",
   "execution_count": 53,
   "id": "f78a947f",
   "metadata": {},
   "outputs": [
    {
     "name": "stdout",
     "output_type": "stream",
     "text": [
      "Please select operation- 1.Add 2.Substract 3.Multiply 4.Division\n",
      "Select operations form 1, 2, 3, 4 :4\n",
      "Enter first number: 9\n",
      "Enter second number: 1256\n",
      "0.007165605095541401\n"
     ]
    }
   ],
   "source": [
    "print(\"Please select operation- \"  \"1.Add\" , \"2.Substract\", \"3.Multiply\", \"4.Division\")\n",
    "\n",
    "select = input(\"Select operations form 1, 2, 3, 4 :\") \n",
    "  \n",
    "n1 = int(input(\"Enter first number: \")) \n",
    "n2 = int(input(\"Enter second number: \")) \n",
    "  \n",
    "if select == '1': \n",
    "    print(n1 + n2)\n",
    "  \n",
    "elif select == '2': \n",
    "    print(n1 - n2)\n",
    "  \n",
    "elif select == '3': \n",
    "    print(n1 * n2) \n",
    "  \n",
    "elif select == '4': \n",
    "    print(n1 / n2) \n",
    "else: \n",
    "    print(\"Invalid input\") "
   ]
  },
  {
   "cell_type": "code",
   "execution_count": null,
   "id": "e21aac89",
   "metadata": {},
   "outputs": [],
   "source": []
  },
  {
   "cell_type": "code",
   "execution_count": null,
   "id": "a52993ca",
   "metadata": {},
   "outputs": [],
   "source": []
  },
  {
   "cell_type": "code",
   "execution_count": null,
   "id": "57ec02e6",
   "metadata": {},
   "outputs": [],
   "source": []
  },
  {
   "cell_type": "code",
   "execution_count": null,
   "id": "7f04a2cc",
   "metadata": {},
   "outputs": [],
   "source": []
  },
  {
   "cell_type": "code",
   "execution_count": null,
   "id": "23d88516",
   "metadata": {},
   "outputs": [],
   "source": []
  }
 ],
 "metadata": {
  "kernelspec": {
   "display_name": "Python 3 (ipykernel)",
   "language": "python",
   "name": "python3"
  },
  "language_info": {
   "codemirror_mode": {
    "name": "ipython",
    "version": 3
   },
   "file_extension": ".py",
   "mimetype": "text/x-python",
   "name": "python",
   "nbconvert_exporter": "python",
   "pygments_lexer": "ipython3",
   "version": "3.10.2"
  }
 },
 "nbformat": 4,
 "nbformat_minor": 5
}
