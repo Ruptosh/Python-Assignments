{
 "cells": [
  {
   "cell_type": "code",
   "execution_count": null,
   "id": "897915fe",
   "metadata": {},
   "outputs": [],
   "source": [
    "Write a Python Program to Display Fibonacci Sequence Using Recursion?"
   ]
  },
  {
   "cell_type": "code",
   "execution_count": 21,
   "id": "26effaaf",
   "metadata": {},
   "outputs": [
    {
     "name": "stdout",
     "output_type": "stream",
     "text": [
      "enter5\n",
      "Fibonacci sequence:\n",
      "0\n",
      "1\n",
      "1\n",
      "2\n",
      "3\n"
     ]
    }
   ],
   "source": [
    "def fibo(n):\n",
    "   if n <= 1:\n",
    "       return n\n",
    "   else:\n",
    "       return(fibo(n-1) + fibo(n-2))\n",
    "\n",
    "a = int(input('enter'))\n",
    "\n",
    "\n",
    "if a <= 0:\n",
    "   print(\"Plese enter a positive integer\")\n",
    "else:\n",
    "   print(\"Fibonacci sequence:\")\n",
    "   for i in range(a):\n",
    "       print(fibo(i))"
   ]
  },
  {
   "cell_type": "code",
   "execution_count": null,
   "id": "8981be10",
   "metadata": {},
   "outputs": [],
   "source": [
    "Write a Python Program to Find Factorial of Number Using Recursion?"
   ]
  },
  {
   "cell_type": "code",
   "execution_count": 22,
   "id": "dd696425",
   "metadata": {},
   "outputs": [
    {
     "name": "stdout",
     "output_type": "stream",
     "text": [
      "enter5\n",
      "The factorial of 5 is 120\n"
     ]
    }
   ],
   "source": [
    "def factorial(n):\n",
    "   if n == 1:\n",
    "       return n\n",
    "   else:\n",
    "       return n*factorial(n-1)\n",
    "\n",
    "num = int(input('enter'))\n",
    "\n",
    "\n",
    "if num < 0:\n",
    "   print(\"Sorry, factorial does not exist for negative numbers\")\n",
    "elif num == 0:\n",
    "   print(\"The factorial of 0 is 1\")\n",
    "else:\n",
    "   print(\"The factorial of\", num, \"is\",factorial(num))"
   ]
  },
  {
   "cell_type": "code",
   "execution_count": null,
   "id": "5d9de209",
   "metadata": {},
   "outputs": [],
   "source": [
    "Write a Python Program to calculate your Body Mass Index?"
   ]
  },
  {
   "cell_type": "code",
   "execution_count": 23,
   "id": "1aa9fa18",
   "metadata": {},
   "outputs": [
    {
     "name": "stdout",
     "output_type": "stream",
     "text": [
      "Input your height in Cms: 14\n",
      "Input your weight in Kilogram: 2\n",
      "Your body mass index is:  102.04\n"
     ]
    }
   ],
   "source": [
    "height = float(input(\"Input your height in Cms: \"))\n",
    "weight = float(input(\"Input your weight in Kilogram: \"))\n",
    "print(\"Your body mass index is: \", round(weight / (height /100)**2, 2))"
   ]
  },
  {
   "cell_type": "code",
   "execution_count": null,
   "id": "39e4a876",
   "metadata": {},
   "outputs": [],
   "source": [
    "Write a Python Program to calculate the natural logarithm of any number?"
   ]
  },
  {
   "cell_type": "code",
   "execution_count": 24,
   "id": "f0fce2dd",
   "metadata": {},
   "outputs": [
    {
     "name": "stdout",
     "output_type": "stream",
     "text": [
      "Enter the number: 5\n",
      "The value is: 1.6094379124341003\n"
     ]
    }
   ],
   "source": [
    "import math\n",
    "\n",
    "n = int(input(\"Enter the number: \"))\n",
    "\n",
    "log = math.log(n)\n",
    "\n",
    "print(\"The value is:\",log)"
   ]
  },
  {
   "cell_type": "code",
   "execution_count": null,
   "id": "f4e5aa6c",
   "metadata": {},
   "outputs": [],
   "source": [
    "Write a Python Program for cube sum of first n natural numbers?"
   ]
  },
  {
   "cell_type": "code",
   "execution_count": 20,
   "id": "0f2c2e5a",
   "metadata": {},
   "outputs": [
    {
     "name": "stdout",
     "output_type": "stream",
     "text": [
      "Enter the number: 3\n",
      "36\n"
     ]
    }
   ],
   "source": [
    "n = int(input(\"Enter the number: \"))\n",
    "sum = 0\n",
    "for i in range(1,n+1):\n",
    "    sum = sum + (i*i*i)\n",
    "print(sum)\n"
   ]
  },
  {
   "cell_type": "code",
   "execution_count": null,
   "id": "fab91e17",
   "metadata": {},
   "outputs": [],
   "source": []
  },
  {
   "cell_type": "code",
   "execution_count": null,
   "id": "2c7e235a",
   "metadata": {},
   "outputs": [],
   "source": []
  },
  {
   "cell_type": "code",
   "execution_count": null,
   "id": "1a92fe5e",
   "metadata": {},
   "outputs": [],
   "source": []
  },
  {
   "cell_type": "code",
   "execution_count": null,
   "id": "1b90be1c",
   "metadata": {},
   "outputs": [],
   "source": []
  },
  {
   "cell_type": "code",
   "execution_count": null,
   "id": "4850de71",
   "metadata": {},
   "outputs": [],
   "source": []
  },
  {
   "cell_type": "code",
   "execution_count": null,
   "id": "9ad026b7",
   "metadata": {},
   "outputs": [],
   "source": []
  }
 ],
 "metadata": {
  "kernelspec": {
   "display_name": "Python 3 (ipykernel)",
   "language": "python",
   "name": "python3"
  },
  "language_info": {
   "codemirror_mode": {
    "name": "ipython",
    "version": 3
   },
   "file_extension": ".py",
   "mimetype": "text/x-python",
   "name": "python",
   "nbconvert_exporter": "python",
   "pygments_lexer": "ipython3",
   "version": "3.9.12"
  }
 },
 "nbformat": 4,
 "nbformat_minor": 5
}
